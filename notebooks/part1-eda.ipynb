{
 "cells": [
  {
   "cell_type": "markdown",
   "metadata": {},
   "source": [
    "# AI Workflow Capstone - Part 1\n",
    "\n",
    "This notebook is for the part 1 exploratory data analysis of the AI Workflow Capstone course."
   ]
  },
  {
   "cell_type": "code",
   "execution_count": 1,
   "metadata": {},
   "outputs": [],
   "source": [
    "# imports\n",
    "import numpy as np\n",
    "import pandas as pd\n",
    "import matplotlib.pyplot as plt\n",
    "import os"
   ]
  },
  {
   "cell_type": "code",
   "execution_count": 2,
   "metadata": {},
   "outputs": [
    {
     "data": {
      "text/plain": [
       "['invoices-2017-11.json',\n",
       " 'invoices-2017-12.json',\n",
       " 'invoices-2018-01.json',\n",
       " 'invoices-2018-02.json',\n",
       " 'invoices-2018-03.json',\n",
       " 'invoices-2018-04.json',\n",
       " 'invoices-2018-05.json',\n",
       " 'invoices-2018-06.json',\n",
       " 'invoices-2018-07.json',\n",
       " 'invoices-2018-08.json',\n",
       " 'invoices-2018-09.json',\n",
       " 'invoices-2018-10.json',\n",
       " 'invoices-2018-11.json',\n",
       " 'invoices-2018-12.json',\n",
       " 'invoices-2019-01.json',\n",
       " 'invoices-2019-02.json',\n",
       " 'invoices-2019-03.json',\n",
       " 'invoices-2019-04.json',\n",
       " 'invoices-2019-05.json',\n",
       " 'invoices-2019-06.json',\n",
       " 'invoices-2019-07.json']"
      ]
     },
     "execution_count": 2,
     "metadata": {},
     "output_type": "execute_result"
    }
   ],
   "source": [
    "# training data files\n",
    "sorted(os.listdir(os.path.join(\"..\", \"data\", \"cs-train\")))"
   ]
  },
  {
   "cell_type": "code",
   "execution_count": 3,
   "metadata": {},
   "outputs": [],
   "source": [
    "# create empty dataframe to add training data to\n",
    "df = pd.DataFrame()"
   ]
  },
  {
   "cell_type": "code",
   "execution_count": 4,
   "metadata": {},
   "outputs": [],
   "source": [
    "# correct list of column names\n",
    "correct_cols = sorted(['country', 'customer_id', 'invoice', 'price', 'stream_id', \n",
    "                'times_viewed', 'year', 'month', 'day'])"
   ]
  },
  {
   "cell_type": "code",
   "execution_count": 5,
   "metadata": {},
   "outputs": [],
   "source": [
    "datafiles = sorted(os.listdir(os.path.join(\"..\", \"data\", \"cs-train\")))\n",
    "\n",
    "for file in datafiles:\n",
    "    filename = os.path.join(\"..\", \"data\", \"cs-train\", file)\n",
    "    file_df = pd.read_json(filename,\n",
    "                           dtype={'country': str, 'customer_id': str, 'invoice': str, \n",
    "                                  'price': str, 'stream_id': str, 'times_viewed': str, \n",
    "                                  'year': str, 'month': str, 'day': str})\n",
    "    \n",
    "    # correct inconsistent column names\n",
    "    cols = file_df.columns.to_list()\n",
    "    if \"total_price\" in cols:\n",
    "        file_df.rename(columns={\"total_price\": \"price\"}, inplace=True)\n",
    "    if \"StreamID\" in cols:\n",
    "        file_df.rename(columns={\"StreamID\": \"stream_id\"}, inplace=True)\n",
    "    if \"TimesViewed\" in cols:\n",
    "        file_df.rename(columns={\"TimesViewed\": \"times_viewed\"}, inplace=True)\n",
    "    if sorted(file_df.columns.to_list()) != correct_cols:\n",
    "        print(\"column names do not match\")\n",
    "    \n",
    "    df = df.append(file_df)"
   ]
  },
  {
   "cell_type": "code",
   "execution_count": 6,
   "metadata": {},
   "outputs": [],
   "source": [
    "# perform clean up and convert data types\n",
    "\n",
    "# remove alpha characters from invoice column\n",
    "df[\"invoice\"] = df[\"invoice\"].str.replace(r\"[a-zA-Z]\", \"\")\n",
    "# convert columns customer_id, invoice, price, times_viewed, year, month, day to numeric\n",
    "df[[\"customer_id\", \"invoice\", \"price\", \"times_viewed\", \"year\", \n",
    "    \"month\", \"day\"]] = df[[\"customer_id\", \"invoice\", \"price\", \n",
    "                           \"times_viewed\", \"year\", \"month\", \n",
    "                           \"day\"]].apply(pd.to_numeric, errors=\"coerce\")"
   ]
  },
  {
   "cell_type": "markdown",
   "metadata": {},
   "source": [
    "## Data Investigation\n",
    "\n",
    "Now that we have a dataframe with all of our data, we will review the data for reasonableness and check for outliers."
   ]
  },
  {
   "cell_type": "code",
   "execution_count": 7,
   "metadata": {},
   "outputs": [
    {
     "data": {
      "text/html": [
       "<div>\n",
       "<style scoped>\n",
       "    .dataframe tbody tr th:only-of-type {\n",
       "        vertical-align: middle;\n",
       "    }\n",
       "\n",
       "    .dataframe tbody tr th {\n",
       "        vertical-align: top;\n",
       "    }\n",
       "\n",
       "    .dataframe thead th {\n",
       "        text-align: right;\n",
       "    }\n",
       "</style>\n",
       "<table border=\"1\" class=\"dataframe\">\n",
       "  <thead>\n",
       "    <tr style=\"text-align: right;\">\n",
       "      <th></th>\n",
       "      <th>country</th>\n",
       "      <th>customer_id</th>\n",
       "      <th>invoice</th>\n",
       "      <th>price</th>\n",
       "      <th>stream_id</th>\n",
       "      <th>times_viewed</th>\n",
       "      <th>year</th>\n",
       "      <th>month</th>\n",
       "      <th>day</th>\n",
       "    </tr>\n",
       "  </thead>\n",
       "  <tbody>\n",
       "    <tr>\n",
       "      <th>count</th>\n",
       "      <td>815011</td>\n",
       "      <td>625249.000000</td>\n",
       "      <td>815011.000000</td>\n",
       "      <td>815011.000000</td>\n",
       "      <td>815011</td>\n",
       "      <td>815011.000000</td>\n",
       "      <td>815011.000000</td>\n",
       "      <td>815011.000000</td>\n",
       "      <td>815011.000000</td>\n",
       "    </tr>\n",
       "    <tr>\n",
       "      <th>unique</th>\n",
       "      <td>43</td>\n",
       "      <td>NaN</td>\n",
       "      <td>NaN</td>\n",
       "      <td>NaN</td>\n",
       "      <td>5007</td>\n",
       "      <td>NaN</td>\n",
       "      <td>NaN</td>\n",
       "      <td>NaN</td>\n",
       "      <td>NaN</td>\n",
       "    </tr>\n",
       "    <tr>\n",
       "      <th>top</th>\n",
       "      <td>United Kingdom</td>\n",
       "      <td>NaN</td>\n",
       "      <td>NaN</td>\n",
       "      <td>NaN</td>\n",
       "      <td>85123A</td>\n",
       "      <td>NaN</td>\n",
       "      <td>NaN</td>\n",
       "      <td>NaN</td>\n",
       "      <td>NaN</td>\n",
       "    </tr>\n",
       "    <tr>\n",
       "      <th>freq</th>\n",
       "      <td>751228</td>\n",
       "      <td>NaN</td>\n",
       "      <td>NaN</td>\n",
       "      <td>NaN</td>\n",
       "      <td>5017</td>\n",
       "      <td>NaN</td>\n",
       "      <td>NaN</td>\n",
       "      <td>NaN</td>\n",
       "      <td>NaN</td>\n",
       "    </tr>\n",
       "    <tr>\n",
       "      <th>mean</th>\n",
       "      <td>NaN</td>\n",
       "      <td>15333.415068</td>\n",
       "      <td>526773.221948</td>\n",
       "      <td>4.802631</td>\n",
       "      <td>NaN</td>\n",
       "      <td>5.231106</td>\n",
       "      <td>2018.247654</td>\n",
       "      <td>6.592718</td>\n",
       "      <td>15.064819</td>\n",
       "    </tr>\n",
       "    <tr>\n",
       "      <th>std</th>\n",
       "      <td>NaN</td>\n",
       "      <td>1698.360788</td>\n",
       "      <td>20734.819988</td>\n",
       "      <td>135.058707</td>\n",
       "      <td>NaN</td>\n",
       "      <td>5.109982</td>\n",
       "      <td>0.545261</td>\n",
       "      <td>3.598781</td>\n",
       "      <td>8.788845</td>\n",
       "    </tr>\n",
       "    <tr>\n",
       "      <th>min</th>\n",
       "      <td>NaN</td>\n",
       "      <td>12346.000000</td>\n",
       "      <td>489434.000000</td>\n",
       "      <td>-53594.360000</td>\n",
       "      <td>NaN</td>\n",
       "      <td>0.000000</td>\n",
       "      <td>2017.000000</td>\n",
       "      <td>1.000000</td>\n",
       "      <td>1.000000</td>\n",
       "    </tr>\n",
       "    <tr>\n",
       "      <th>25%</th>\n",
       "      <td>NaN</td>\n",
       "      <td>13956.000000</td>\n",
       "      <td>509031.000000</td>\n",
       "      <td>1.250000</td>\n",
       "      <td>NaN</td>\n",
       "      <td>1.000000</td>\n",
       "      <td>2018.000000</td>\n",
       "      <td>3.000000</td>\n",
       "      <td>7.000000</td>\n",
       "    </tr>\n",
       "    <tr>\n",
       "      <th>50%</th>\n",
       "      <td>NaN</td>\n",
       "      <td>15279.000000</td>\n",
       "      <td>528383.000000</td>\n",
       "      <td>2.100000</td>\n",
       "      <td>NaN</td>\n",
       "      <td>3.000000</td>\n",
       "      <td>2018.000000</td>\n",
       "      <td>6.000000</td>\n",
       "      <td>15.000000</td>\n",
       "    </tr>\n",
       "    <tr>\n",
       "      <th>75%</th>\n",
       "      <td>NaN</td>\n",
       "      <td>16813.000000</td>\n",
       "      <td>543527.000000</td>\n",
       "      <td>4.210000</td>\n",
       "      <td>NaN</td>\n",
       "      <td>8.000000</td>\n",
       "      <td>2019.000000</td>\n",
       "      <td>10.000000</td>\n",
       "      <td>23.000000</td>\n",
       "    </tr>\n",
       "    <tr>\n",
       "      <th>max</th>\n",
       "      <td>NaN</td>\n",
       "      <td>18287.000000</td>\n",
       "      <td>562271.000000</td>\n",
       "      <td>38970.000000</td>\n",
       "      <td>NaN</td>\n",
       "      <td>24.000000</td>\n",
       "      <td>2019.000000</td>\n",
       "      <td>12.000000</td>\n",
       "      <td>31.000000</td>\n",
       "    </tr>\n",
       "  </tbody>\n",
       "</table>\n",
       "</div>"
      ],
      "text/plain": [
       "               country    customer_id        invoice          price stream_id  \\\n",
       "count           815011  625249.000000  815011.000000  815011.000000    815011   \n",
       "unique              43            NaN            NaN            NaN      5007   \n",
       "top     United Kingdom            NaN            NaN            NaN    85123A   \n",
       "freq            751228            NaN            NaN            NaN      5017   \n",
       "mean               NaN   15333.415068  526773.221948       4.802631       NaN   \n",
       "std                NaN    1698.360788   20734.819988     135.058707       NaN   \n",
       "min                NaN   12346.000000  489434.000000  -53594.360000       NaN   \n",
       "25%                NaN   13956.000000  509031.000000       1.250000       NaN   \n",
       "50%                NaN   15279.000000  528383.000000       2.100000       NaN   \n",
       "75%                NaN   16813.000000  543527.000000       4.210000       NaN   \n",
       "max                NaN   18287.000000  562271.000000   38970.000000       NaN   \n",
       "\n",
       "         times_viewed           year          month            day  \n",
       "count   815011.000000  815011.000000  815011.000000  815011.000000  \n",
       "unique            NaN            NaN            NaN            NaN  \n",
       "top               NaN            NaN            NaN            NaN  \n",
       "freq              NaN            NaN            NaN            NaN  \n",
       "mean         5.231106    2018.247654       6.592718      15.064819  \n",
       "std          5.109982       0.545261       3.598781       8.788845  \n",
       "min          0.000000    2017.000000       1.000000       1.000000  \n",
       "25%          1.000000    2018.000000       3.000000       7.000000  \n",
       "50%          3.000000    2018.000000       6.000000      15.000000  \n",
       "75%          8.000000    2019.000000      10.000000      23.000000  \n",
       "max         24.000000    2019.000000      12.000000      31.000000  "
      ]
     },
     "execution_count": 7,
     "metadata": {},
     "output_type": "execute_result"
    }
   ],
   "source": [
    "# review resulting dataframe stats\n",
    "df.describe(include=\"all\")"
   ]
  },
  {
   "cell_type": "markdown",
   "metadata": {},
   "source": [
    "NOTE: Some of the data in `price` seems incorrect.  There are negative values for price as well as extremely large values."
   ]
  },
  {
   "cell_type": "code",
   "execution_count": 8,
   "metadata": {},
   "outputs": [
    {
     "data": {
      "text/html": [
       "<div>\n",
       "<style scoped>\n",
       "    .dataframe tbody tr th:only-of-type {\n",
       "        vertical-align: middle;\n",
       "    }\n",
       "\n",
       "    .dataframe tbody tr th {\n",
       "        vertical-align: top;\n",
       "    }\n",
       "\n",
       "    .dataframe thead th {\n",
       "        text-align: right;\n",
       "    }\n",
       "</style>\n",
       "<table border=\"1\" class=\"dataframe\">\n",
       "  <thead>\n",
       "    <tr style=\"text-align: right;\">\n",
       "      <th></th>\n",
       "      <th>country</th>\n",
       "      <th>customer_id</th>\n",
       "      <th>invoice</th>\n",
       "      <th>price</th>\n",
       "      <th>stream_id</th>\n",
       "      <th>times_viewed</th>\n",
       "      <th>year</th>\n",
       "      <th>month</th>\n",
       "      <th>day</th>\n",
       "    </tr>\n",
       "  </thead>\n",
       "  <tbody>\n",
       "    <tr>\n",
       "      <th>29648</th>\n",
       "      <td>United Kingdom</td>\n",
       "      <td>NaN</td>\n",
       "      <td>506401</td>\n",
       "      <td>-53594.36</td>\n",
       "      <td>B</td>\n",
       "      <td>1</td>\n",
       "      <td>2018</td>\n",
       "      <td>4</td>\n",
       "      <td>26</td>\n",
       "    </tr>\n",
       "    <tr>\n",
       "      <th>16895</th>\n",
       "      <td>United Kingdom</td>\n",
       "      <td>NaN</td>\n",
       "      <td>516228</td>\n",
       "      <td>-44031.79</td>\n",
       "      <td>B</td>\n",
       "      <td>1</td>\n",
       "      <td>2018</td>\n",
       "      <td>7</td>\n",
       "      <td>16</td>\n",
       "    </tr>\n",
       "    <tr>\n",
       "      <th>34579</th>\n",
       "      <td>United Kingdom</td>\n",
       "      <td>NaN</td>\n",
       "      <td>528059</td>\n",
       "      <td>-38925.87</td>\n",
       "      <td>B</td>\n",
       "      <td>1</td>\n",
       "      <td>2018</td>\n",
       "      <td>10</td>\n",
       "      <td>17</td>\n",
       "    </tr>\n",
       "  </tbody>\n",
       "</table>\n",
       "</div>"
      ],
      "text/plain": [
       "              country  customer_id  invoice     price stream_id  times_viewed  \\\n",
       "29648  United Kingdom          NaN   506401 -53594.36         B             1   \n",
       "16895  United Kingdom          NaN   516228 -44031.79         B             1   \n",
       "34579  United Kingdom          NaN   528059 -38925.87         B             1   \n",
       "\n",
       "       year  month  day  \n",
       "29648  2018      4   26  \n",
       "16895  2018      7   16  \n",
       "34579  2018     10   17  "
      ]
     },
     "execution_count": 8,
     "metadata": {},
     "output_type": "execute_result"
    }
   ],
   "source": [
    "# review negative prices\n",
    "df[df[\"price\"] < 0]"
   ]
  },
  {
   "cell_type": "markdown",
   "metadata": {},
   "source": [
    "We will remove these negative values from training."
   ]
  },
  {
   "cell_type": "code",
   "execution_count": 9,
   "metadata": {
    "scrolled": true
   },
   "outputs": [
    {
     "data": {
      "text/html": [
       "<div>\n",
       "<style scoped>\n",
       "    .dataframe tbody tr th:only-of-type {\n",
       "        vertical-align: middle;\n",
       "    }\n",
       "\n",
       "    .dataframe tbody tr th {\n",
       "        vertical-align: top;\n",
       "    }\n",
       "\n",
       "    .dataframe thead th {\n",
       "        text-align: right;\n",
       "    }\n",
       "</style>\n",
       "<table border=\"1\" class=\"dataframe\">\n",
       "  <thead>\n",
       "    <tr style=\"text-align: right;\">\n",
       "      <th></th>\n",
       "      <th>country</th>\n",
       "      <th>customer_id</th>\n",
       "      <th>invoice</th>\n",
       "      <th>price</th>\n",
       "      <th>stream_id</th>\n",
       "      <th>times_viewed</th>\n",
       "      <th>year</th>\n",
       "      <th>month</th>\n",
       "      <th>day</th>\n",
       "    </tr>\n",
       "  </thead>\n",
       "  <tbody>\n",
       "    <tr>\n",
       "      <th>7309</th>\n",
       "      <td>United Kingdom</td>\n",
       "      <td>15482.0</td>\n",
       "      <td>490129</td>\n",
       "      <td>1998.49</td>\n",
       "      <td>M</td>\n",
       "      <td>1</td>\n",
       "      <td>2017</td>\n",
       "      <td>11</td>\n",
       "      <td>30</td>\n",
       "    </tr>\n",
       "    <tr>\n",
       "      <th>14940</th>\n",
       "      <td>United Kingdom</td>\n",
       "      <td>13091.0</td>\n",
       "      <td>491176</td>\n",
       "      <td>1213.02</td>\n",
       "      <td>M</td>\n",
       "      <td>1</td>\n",
       "      <td>2017</td>\n",
       "      <td>12</td>\n",
       "      <td>7</td>\n",
       "    </tr>\n",
       "    <tr>\n",
       "      <th>9843</th>\n",
       "      <td>United Kingdom</td>\n",
       "      <td>NaN</td>\n",
       "      <td>494477</td>\n",
       "      <td>1747.62</td>\n",
       "      <td>M</td>\n",
       "      <td>3</td>\n",
       "      <td>2018</td>\n",
       "      <td>1</td>\n",
       "      <td>11</td>\n",
       "    </tr>\n",
       "    <tr>\n",
       "      <th>16389</th>\n",
       "      <td>United Kingdom</td>\n",
       "      <td>NaN</td>\n",
       "      <td>494918</td>\n",
       "      <td>1081.70</td>\n",
       "      <td>DOT</td>\n",
       "      <td>1</td>\n",
       "      <td>2018</td>\n",
       "      <td>1</td>\n",
       "      <td>16</td>\n",
       "    </tr>\n",
       "    <tr>\n",
       "      <th>21123</th>\n",
       "      <td>EIRE</td>\n",
       "      <td>14156.0</td>\n",
       "      <td>495234</td>\n",
       "      <td>1193.89</td>\n",
       "      <td>M</td>\n",
       "      <td>2</td>\n",
       "      <td>2018</td>\n",
       "      <td>1</td>\n",
       "      <td>19</td>\n",
       "    </tr>\n",
       "    <tr>\n",
       "      <th>...</th>\n",
       "      <td>...</td>\n",
       "      <td>...</td>\n",
       "      <td>...</td>\n",
       "      <td>...</td>\n",
       "      <td>...</td>\n",
       "      <td>...</td>\n",
       "      <td>...</td>\n",
       "      <td>...</td>\n",
       "      <td>...</td>\n",
       "    </tr>\n",
       "    <tr>\n",
       "      <th>21242</th>\n",
       "      <td>United Kingdom</td>\n",
       "      <td>NaN</td>\n",
       "      <td>560373</td>\n",
       "      <td>4287.63</td>\n",
       "      <td>M</td>\n",
       "      <td>1</td>\n",
       "      <td>2019</td>\n",
       "      <td>7</td>\n",
       "      <td>15</td>\n",
       "    </tr>\n",
       "    <tr>\n",
       "      <th>21243</th>\n",
       "      <td>United Kingdom</td>\n",
       "      <td>17448.0</td>\n",
       "      <td>560372</td>\n",
       "      <td>4287.63</td>\n",
       "      <td>M</td>\n",
       "      <td>3</td>\n",
       "      <td>2019</td>\n",
       "      <td>7</td>\n",
       "      <td>15</td>\n",
       "    </tr>\n",
       "    <tr>\n",
       "      <th>24838</th>\n",
       "      <td>United Kingdom</td>\n",
       "      <td>18102.0</td>\n",
       "      <td>560647</td>\n",
       "      <td>3060.60</td>\n",
       "      <td>M</td>\n",
       "      <td>3</td>\n",
       "      <td>2019</td>\n",
       "      <td>7</td>\n",
       "      <td>17</td>\n",
       "    </tr>\n",
       "    <tr>\n",
       "      <th>40163</th>\n",
       "      <td>United Kingdom</td>\n",
       "      <td>NaN</td>\n",
       "      <td>562086</td>\n",
       "      <td>6721.37</td>\n",
       "      <td>AMAZONFEE</td>\n",
       "      <td>3</td>\n",
       "      <td>2019</td>\n",
       "      <td>7</td>\n",
       "      <td>30</td>\n",
       "    </tr>\n",
       "    <tr>\n",
       "      <th>40383</th>\n",
       "      <td>United Kingdom</td>\n",
       "      <td>NaN</td>\n",
       "      <td>562062</td>\n",
       "      <td>4575.64</td>\n",
       "      <td>AMAZONFEE</td>\n",
       "      <td>4</td>\n",
       "      <td>2019</td>\n",
       "      <td>7</td>\n",
       "      <td>30</td>\n",
       "    </tr>\n",
       "  </tbody>\n",
       "</table>\n",
       "<p>186 rows × 9 columns</p>\n",
       "</div>"
      ],
      "text/plain": [
       "              country  customer_id  invoice    price  stream_id  times_viewed  \\\n",
       "7309   United Kingdom      15482.0   490129  1998.49          M             1   \n",
       "14940  United Kingdom      13091.0   491176  1213.02          M             1   \n",
       "9843   United Kingdom          NaN   494477  1747.62          M             3   \n",
       "16389  United Kingdom          NaN   494918  1081.70        DOT             1   \n",
       "21123            EIRE      14156.0   495234  1193.89          M             2   \n",
       "...               ...          ...      ...      ...        ...           ...   \n",
       "21242  United Kingdom          NaN   560373  4287.63          M             1   \n",
       "21243  United Kingdom      17448.0   560372  4287.63          M             3   \n",
       "24838  United Kingdom      18102.0   560647  3060.60          M             3   \n",
       "40163  United Kingdom          NaN   562086  6721.37  AMAZONFEE             3   \n",
       "40383  United Kingdom          NaN   562062  4575.64  AMAZONFEE             4   \n",
       "\n",
       "       year  month  day  \n",
       "7309   2017     11   30  \n",
       "14940  2017     12    7  \n",
       "9843   2018      1   11  \n",
       "16389  2018      1   16  \n",
       "21123  2018      1   19  \n",
       "...     ...    ...  ...  \n",
       "21242  2019      7   15  \n",
       "21243  2019      7   15  \n",
       "24838  2019      7   17  \n",
       "40163  2019      7   30  \n",
       "40383  2019      7   30  \n",
       "\n",
       "[186 rows x 9 columns]"
      ]
     },
     "execution_count": 9,
     "metadata": {},
     "output_type": "execute_result"
    }
   ],
   "source": [
    "# review extremely large prices\n",
    "df[df[\"price\"] > 1000]"
   ]
  },
  {
   "cell_type": "code",
   "execution_count": 10,
   "metadata": {
    "scrolled": false
   },
   "outputs": [
    {
     "data": {
      "image/png": "[encoded data removed]",
      "text/plain": [
       "<Figure size 432x288 with 1 Axes>"
      ]
     },
     "metadata": {
      "needs_background": "light"
     },
     "output_type": "display_data"
    }
   ],
   "source": [
    "plt.hist(df.loc[(df[\"price\"] >= 0) & (df[\"price\"] < 60), \"price\"], bins = 50)\n",
    "plt.show()"
   ]
  },
  {
   "cell_type": "markdown",
   "metadata": {},
   "source": [
    "While the vast majority of prices are less than 10, there are some very high prices.  Rather than just a couple outliers, as we saw with the negative prices, this appears to be a very long tail."
   ]
  },
  {
   "cell_type": "code",
   "execution_count": 11,
   "metadata": {},
   "outputs": [],
   "source": [
    "# remove the negative values from price\n",
    "df = df[df[\"price\"] >= 0]"
   ]
  },
  {
   "cell_type": "code",
   "execution_count": 12,
   "metadata": {},
   "outputs": [
    {
     "data": {
      "image/png": "[encoded data removed]",
      "text/plain": [
       "<Figure size 432x288 with 1 Axes>"
      ]
     },
     "metadata": {
      "needs_background": "light"
     },
     "output_type": "display_data"
    }
   ],
   "source": [
    "plt.hist(df[\"times_viewed\"], bins=20)\n",
    "plt.show()"
   ]
  },
  {
   "cell_type": "markdown",
   "metadata": {},
   "source": [
    "Most of this data is clustered to the left, with low numbers of `times_viewed`, though there are some larger values."
   ]
  },
  {
   "cell_type": "code",
   "execution_count": 13,
   "metadata": {},
   "outputs": [
    {
     "data": {
      "image/png": "[encoded data removed]",
      "text/plain": [
       "<Figure size 432x288 with 1 Axes>"
      ]
     },
     "metadata": {
      "needs_background": "light"
     },
     "output_type": "display_data"
    }
   ],
   "source": [
    "plt.hist(df[\"year\"], bins=[2016.5, 2017.5, 2018.5, 2019.5])\n",
    "plt.show()"
   ]
  },
  {
   "cell_type": "markdown",
   "metadata": {},
   "source": [
    "This distribution makes sense, as we have only two months of data for 2017, a full year for 2018, and seven months for 2019."
   ]
  },
  {
   "cell_type": "code",
   "execution_count": 14,
   "metadata": {},
   "outputs": [
    {
     "data": {
      "image/png": "[encoded data removed]",
      "text/plain": [
       "<Figure size 432x288 with 1 Axes>"
      ]
     },
     "metadata": {
      "needs_background": "light"
     },
     "output_type": "display_data"
    }
   ],
   "source": [
    "plt.hist(df[\"month\"], bins=range(1,14))\n",
    "plt.show()"
   ]
  },
  {
   "cell_type": "markdown",
   "metadata": {},
   "source": [
    "Again, this makes sense, as we have two years of data for all but months 8, 9, and 10, so we would expect those to have lower counts."
   ]
  },
  {
   "cell_type": "code",
   "execution_count": 15,
   "metadata": {},
   "outputs": [
    {
     "data": {
      "image/png": "[encoded data removed]",
      "text/plain": [
       "<Figure size 432x288 with 1 Axes>"
      ]
     },
     "metadata": {
      "needs_background": "light"
     },
     "output_type": "display_data"
    }
   ],
   "source": [
    "plt.hist(df[\"day\"], bins=range(1,33))\n",
    "plt.show()"
   ]
  },
  {
   "cell_type": "markdown",
   "metadata": {},
   "source": [
    "This distribution is relatively even across day of the month, with a drop off for the 31st, which is expected given only about half the months included have 31 days."
   ]
  },
  {
   "cell_type": "code",
   "execution_count": 16,
   "metadata": {},
   "outputs": [
    {
     "data": {
      "text/plain": [
       "United Kingdom          751225\n",
       "EIRE                     13577\n",
       "Germany                  13336\n",
       "France                    9899\n",
       "Netherlands               4024\n",
       "Spain                     2606\n",
       "Switzerland               2326\n",
       "Belgium                   2166\n",
       "Portugal                  1815\n",
       "Australia                 1543\n",
       "Channel Islands           1287\n",
       "Sweden                    1156\n",
       "Italy                     1049\n",
       "Cyprus                     907\n",
       "Norway                     796\n",
       "Finland                    749\n",
       "Austria                    719\n",
       "Denmark                    629\n",
       "Greece                     627\n",
       "Unspecified                614\n",
       "Japan                      514\n",
       "United Arab Emirates       462\n",
       "Poland                     429\n",
       "Singapore                  310\n",
       "Hong Kong                  276\n",
       "USA                        266\n",
       "Canada                     223\n",
       "Malta                      219\n",
       "Iceland                    195\n",
       "Lithuania                  189\n",
       "Israel                     139\n",
       "Bahrain                    126\n",
       "RSA                        111\n",
       "Brazil                      94\n",
       "Thailand                    76\n",
       "Korea                       63\n",
       "European Community          61\n",
       "Lebanon                     58\n",
       "West Indies                 54\n",
       "Bermuda                     34\n",
       "Nigeria                     32\n",
       "Czech Republic              17\n",
       "Saudi Arabia                10\n",
       "Name: country, dtype: int64"
      ]
     },
     "execution_count": 16,
     "metadata": {},
     "output_type": "execute_result"
    }
   ],
   "source": [
    "# review countries with data\n",
    "df[\"country\"].value_counts()"
   ]
  },
  {
   "cell_type": "code",
   "execution_count": 17,
   "metadata": {
    "scrolled": true
   },
   "outputs": [
    {
     "data": {
      "text/plain": [
       "United Kingdom    751225\n",
       "EIRE               13577\n",
       "Germany            13336\n",
       "France              9899\n",
       "Netherlands         4024\n",
       "Spain               2606\n",
       "Switzerland         2326\n",
       "Belgium             2166\n",
       "Portugal            1815\n",
       "Australia           1543\n",
       "Name: country, dtype: int64"
      ]
     },
     "execution_count": 17,
     "metadata": {},
     "output_type": "execute_result"
    }
   ],
   "source": [
    "countries = df[\"country\"].value_counts()\n",
    "countries[0:10]"
   ]
  },
  {
   "cell_type": "code",
   "execution_count": 18,
   "metadata": {},
   "outputs": [
    {
     "data": {
      "text/plain": [
       "<AxesSubplot:>"
      ]
     },
     "execution_count": 18,
     "metadata": {},
     "output_type": "execute_result"
    },
    {
     "data": {
      "image/png": "[encoded data removed]",
      "text/plain": [
       "<Figure size 432x288 with 1 Axes>"
      ]
     },
     "metadata": {
      "needs_background": "light"
     },
     "output_type": "display_data"
    }
   ],
   "source": [
    "countries[0:10].plot.bar()"
   ]
  },
  {
   "cell_type": "markdown",
   "metadata": {},
   "source": [
    "There are 43 unique countries included in this data, though we will only end up working with the top 10 countries.  Note that the United Kingdom dominates this data set, even when restricting to the top 10 countries."
   ]
  },
  {
   "cell_type": "markdown",
   "metadata": {},
   "source": [
    "## Feature Engineering\n",
    "\n",
    "Next we will create a few features for future modeling work."
   ]
  },
  {
   "cell_type": "code",
   "execution_count": 19,
   "metadata": {},
   "outputs": [
    {
     "data": {
      "text/html": [
       "<div>\n",
       "<style scoped>\n",
       "    .dataframe tbody tr th:only-of-type {\n",
       "        vertical-align: middle;\n",
       "    }\n",
       "\n",
       "    .dataframe tbody tr th {\n",
       "        vertical-align: top;\n",
       "    }\n",
       "\n",
       "    .dataframe thead th {\n",
       "        text-align: right;\n",
       "    }\n",
       "</style>\n",
       "<table border=\"1\" class=\"dataframe\">\n",
       "  <thead>\n",
       "    <tr style=\"text-align: right;\">\n",
       "      <th></th>\n",
       "      <th>country</th>\n",
       "      <th>customer_id</th>\n",
       "      <th>invoice</th>\n",
       "      <th>price</th>\n",
       "      <th>stream_id</th>\n",
       "      <th>times_viewed</th>\n",
       "      <th>year</th>\n",
       "      <th>month</th>\n",
       "      <th>day</th>\n",
       "      <th>date</th>\n",
       "    </tr>\n",
       "  </thead>\n",
       "  <tbody>\n",
       "    <tr>\n",
       "      <th>0</th>\n",
       "      <td>United Kingdom</td>\n",
       "      <td>13085.0</td>\n",
       "      <td>489434</td>\n",
       "      <td>6.95</td>\n",
       "      <td>85048</td>\n",
       "      <td>12</td>\n",
       "      <td>2017</td>\n",
       "      <td>11</td>\n",
       "      <td>28</td>\n",
       "      <td>2017-11-28</td>\n",
       "    </tr>\n",
       "    <tr>\n",
       "      <th>1</th>\n",
       "      <td>United Kingdom</td>\n",
       "      <td>NaN</td>\n",
       "      <td>489597</td>\n",
       "      <td>8.65</td>\n",
       "      <td>22130</td>\n",
       "      <td>1</td>\n",
       "      <td>2017</td>\n",
       "      <td>11</td>\n",
       "      <td>28</td>\n",
       "      <td>2017-11-28</td>\n",
       "    </tr>\n",
       "    <tr>\n",
       "      <th>2</th>\n",
       "      <td>United Kingdom</td>\n",
       "      <td>NaN</td>\n",
       "      <td>489597</td>\n",
       "      <td>1.70</td>\n",
       "      <td>22132</td>\n",
       "      <td>6</td>\n",
       "      <td>2017</td>\n",
       "      <td>11</td>\n",
       "      <td>28</td>\n",
       "      <td>2017-11-28</td>\n",
       "    </tr>\n",
       "    <tr>\n",
       "      <th>3</th>\n",
       "      <td>United Kingdom</td>\n",
       "      <td>NaN</td>\n",
       "      <td>489597</td>\n",
       "      <td>1.70</td>\n",
       "      <td>22133</td>\n",
       "      <td>4</td>\n",
       "      <td>2017</td>\n",
       "      <td>11</td>\n",
       "      <td>28</td>\n",
       "      <td>2017-11-28</td>\n",
       "    </tr>\n",
       "    <tr>\n",
       "      <th>4</th>\n",
       "      <td>United Kingdom</td>\n",
       "      <td>NaN</td>\n",
       "      <td>489597</td>\n",
       "      <td>0.87</td>\n",
       "      <td>22134</td>\n",
       "      <td>1</td>\n",
       "      <td>2017</td>\n",
       "      <td>11</td>\n",
       "      <td>28</td>\n",
       "      <td>2017-11-28</td>\n",
       "    </tr>\n",
       "  </tbody>\n",
       "</table>\n",
       "</div>"
      ],
      "text/plain": [
       "          country  customer_id  invoice  price stream_id  times_viewed  year  \\\n",
       "0  United Kingdom      13085.0   489434   6.95     85048            12  2017   \n",
       "1  United Kingdom          NaN   489597   8.65     22130             1  2017   \n",
       "2  United Kingdom          NaN   489597   1.70     22132             6  2017   \n",
       "3  United Kingdom          NaN   489597   1.70     22133             4  2017   \n",
       "4  United Kingdom          NaN   489597   0.87     22134             1  2017   \n",
       "\n",
       "   month  day       date  \n",
       "0     11   28 2017-11-28  \n",
       "1     11   28 2017-11-28  \n",
       "2     11   28 2017-11-28  \n",
       "3     11   28 2017-11-28  \n",
       "4     11   28 2017-11-28  "
      ]
     },
     "execution_count": 19,
     "metadata": {},
     "output_type": "execute_result"
    }
   ],
   "source": [
    "# create a datetime field with the date\n",
    "df[\"date\"] = pd.to_datetime(df[\"year\"]*10000 + df[\"month\"]*100 + df[\"day\"], format='%Y%m%d')\n",
    "df.head()"
   ]
  },
  {
   "cell_type": "code",
   "execution_count": null,
   "metadata": {},
   "outputs": [],
   "source": []
  }
 ],
 "metadata": {
  "kernelspec": {
   "display_name": "aavail",
   "language": "python",
   "name": "aavail"
  },
  "language_info": {
   "codemirror_mode": {
    "name": "ipython",
    "version": 3
   },
   "file_extension": ".py",
   "mimetype": "text/x-python",
   "name": "python",
   "nbconvert_exporter": "python",
   "pygments_lexer": "ipython3",
   "version": "3.8.5"
  }
 },
 "nbformat": 4,
 "nbformat_minor": 4
}
